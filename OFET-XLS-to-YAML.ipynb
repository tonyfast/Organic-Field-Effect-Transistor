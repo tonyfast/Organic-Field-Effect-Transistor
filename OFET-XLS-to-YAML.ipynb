{
 "metadata": {
  "name": "OFET-XLS-to-YAML"
 },
 "nbformat": 3,
 "nbformat_minor": 0,
 "worksheets": [
  {
   "cells": [
    {
     "cell_type": "markdown",
     "metadata": {},
     "source": [
      "## Objective\n",
      "\n",
      "Parse Excel data to create Static Github Pages using YAML and Jekyll.\n",
      "\n",
      "\n"
     ]
    },
    {
     "cell_type": "code",
     "collapsed": false,
     "input": [
      "import os\n",
      "import pandas as pd\n",
      "import numpy as np\n",
      "import yaml\n",
      "from google import search\n",
      "import datetime"
     ],
     "language": "python",
     "metadata": {},
     "outputs": [],
     "prompt_number": 1
    },
    {
     "cell_type": "code",
     "collapsed": false,
     "input": [
      "classes = ['Spun','Dipped','Dropped']\n",
      "coi = classes[0] # Class of interest"
     ],
     "language": "python",
     "metadata": {},
     "outputs": [],
     "prompt_number": 3
    },
    {
     "cell_type": "markdown",
     "metadata": {},
     "source": [
      "## Objective\n",
      "\n",
      "Create static webpages of this paper mining exercise for \"\".\n",
      "\n",
      "## Process\n",
      "\n",
      "1. Load in Excel data\n",
      "2. Use Pandas to read in data\n",
      "3. Remove Nans\n",
      "4. Convert to Dictionary.\n",
      "5. Dump to YAML front matter\n",
      "6. Host the static pages on Github pages\n",
      "    \n",
      "    [GitHub pages]() interpret Jekyll syntax which requires a certain structure to the post names.\n",
      "    year-month-date-Author-Title.html"
     ]
    },
    {
     "cell_type": "code",
     "collapsed": false,
     "input": [
      "currenttime = datetime.datetime.now()\n",
      "for coi in classes:\n",
      "    data = pd.read_excel('OFET fab table.xlsx',coi,header=0)\n",
      "    data.columns = [hdrs.encode('ascii','ignore') for hdrs in data.columns]\n",
      "    for papers in data.index:\n",
      "        \n",
      "        # Modify Raw Data to create YAML front matter\n",
      "        subset = data.iloc[papers].dropna()\n",
      "        dictsubset = subset.to_dict()\n",
      "        for dd in dictsubset:\n",
      "            if type(dictsubset[ dd ])  == type(u'unicode'):\n",
      "                dictsubset[ dd ] = str(dictsubset[ dd ].encode('ascii','ignore'))\n",
      "            elif type(dictsubset[ dd ]).__module__ == 'numpy':\n",
      "                # Need to convert numpy scale types into python native scalars\n",
      "                dictsubset[ dd ] = np.asscalar( dictsubset[ dd ] )\n",
      "                \n",
      "        # Parse URL to first search result\n",
      "        if dictsubset.has_key('DOI'):\n",
      "            res  = search(dictsubset['DOI'] )\n",
      "            dictsubset['url'] = res.next() # Returns first result from the google search\n",
      "        else:\n",
      "            dictsubset['url']=''\n",
      "            \n",
      "        if not( dictsubset.has_key('Author') ):\n",
      "            dictsubset['Author'] = '<Unknown>'\n",
      "               \n",
      "        dictsubset['Method'] = coi\n",
      "        postname = str(currenttime.date()) + '-' +\\\n",
      "                   dictsubset['Author'] + '-' +\\\n",
      "                   str(dictsubset['Year']) + '-' +\\\n",
      "                   str( np.asscalar(papers) ) + '-' +\\\n",
      "                   dictsubset['Method'] + '.html'\n",
      "                    \n",
      "        f = open( './_posts/'+postname,'w' )\n",
      "        f.write('---\\n')\n",
      "        f.write(yaml.dump( dictsubset, \n",
      "                default_flow_style=False ) )\n",
      "        f.write('---\\n')\n",
      "        f.close()\n",
      "                   \n",
      "        # Find the page hosting the article\n",
      "        "
     ],
     "language": "python",
     "metadata": {},
     "outputs": [
      {
       "ename": "KeyError",
       "evalue": "'Year'",
       "output_type": "pyerr",
       "traceback": [
        "\u001b[0;31m---------------------------------------------------------------------------\u001b[0m\n\u001b[0;31mKeyError\u001b[0m                                  Traceback (most recent call last)",
        "\u001b[0;32m<ipython-input-15-93a4912dbea5>\u001b[0m in \u001b[0;36m<module>\u001b[0;34m()\u001b[0m\n\u001b[1;32m     30\u001b[0m                    \u001b[0mstr\u001b[0m\u001b[0;34m(\u001b[0m\u001b[0mdictsubset\u001b[0m\u001b[0;34m[\u001b[0m\u001b[0;34m'Year'\u001b[0m\u001b[0;34m]\u001b[0m\u001b[0;34m)\u001b[0m \u001b[0;34m+\u001b[0m \u001b[0;34m'-'\u001b[0m \u001b[0;34m+\u001b[0m\u001b[0;31m\\\u001b[0m\u001b[0;34m\u001b[0m\u001b[0m\n\u001b[1;32m     31\u001b[0m                    \u001b[0mstr\u001b[0m\u001b[0;34m(\u001b[0m \u001b[0mnp\u001b[0m\u001b[0;34m.\u001b[0m\u001b[0masscalar\u001b[0m\u001b[0;34m(\u001b[0m\u001b[0mpapers\u001b[0m\u001b[0;34m)\u001b[0m \u001b[0;34m)\u001b[0m \u001b[0;34m+\u001b[0m \u001b[0;34m'-'\u001b[0m \u001b[0;34m+\u001b[0m\u001b[0;31m\\\u001b[0m\u001b[0;34m\u001b[0m\u001b[0m\n\u001b[0;32m---> 32\u001b[0;31m                    \u001b[0mdictsubset\u001b[0m\u001b[0;34m[\u001b[0m\u001b[0;34m'Method'\u001b[0m\u001b[0;34m]\u001b[0m \u001b[0;34m+\u001b[0m \u001b[0;34m'.html'\u001b[0m\u001b[0;34m\u001b[0m\u001b[0m\n\u001b[0m\u001b[1;32m     33\u001b[0m \u001b[0;34m\u001b[0m\u001b[0m\n\u001b[1;32m     34\u001b[0m         \u001b[0mf\u001b[0m \u001b[0;34m=\u001b[0m \u001b[0mopen\u001b[0m\u001b[0;34m(\u001b[0m \u001b[0;34m'./_posts/'\u001b[0m\u001b[0;34m+\u001b[0m\u001b[0mpostname\u001b[0m\u001b[0;34m,\u001b[0m\u001b[0;34m'w'\u001b[0m \u001b[0;34m)\u001b[0m\u001b[0;34m\u001b[0m\u001b[0m\n",
        "\u001b[0;31mKeyError\u001b[0m: 'Year'"
       ]
      }
     ],
     "prompt_number": 15
    },
    {
     "cell_type": "code",
     "collapsed": false,
     "input": [
      "journals = {'j.synthmet':'Synthetic Materials',\n",
      "            'ma':'MacroMolecules',\n",
      "            'adma':'Advanced Materials',\n",
      "            'nn': 'American Chemical Society Nano',\n",
      "            'adfm': 'Advanced Functional Materials',\n",
      "            'PhysRevB':'Physical Review B'\n",
      "            }"
     ],
     "language": "python",
     "metadata": {},
     "outputs": [],
     "prompt_number": 229
    }
   ],
   "metadata": {}
  }
 ]
}