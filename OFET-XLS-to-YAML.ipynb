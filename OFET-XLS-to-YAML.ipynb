{
 "metadata": {
  "name": "OFET-XLS-to-YAML"
 },
 "nbformat": 3,
 "nbformat_minor": 0,
 "worksheets": [
  {
   "cells": [
    {
     "cell_type": "code",
     "collapsed": false,
     "input": [
      "import os\n",
      "import pandas as pd\n",
      "import numpy as np\n",
      "import yaml\n",
      "from google import search\n",
      "import datetime"
     ],
     "language": "python",
     "metadata": {},
     "outputs": [],
     "prompt_number": 1
    },
    {
     "cell_type": "code",
     "collapsed": false,
     "input": [
      "os.chdir('./Downloads/')"
     ],
     "language": "python",
     "metadata": {},
     "outputs": [],
     "prompt_number": 2
    },
    {
     "cell_type": "code",
     "collapsed": false,
     "input": [
      "classes = ['Spun','Dipped','Dropped']\n",
      "coi = classes[0] # Class of interest"
     ],
     "language": "python",
     "metadata": {},
     "outputs": [],
     "prompt_number": 13
    },
    {
     "cell_type": "code",
     "collapsed": false,
     "input": [
      "data = pd.read_excel('OFET fab table.xlsx',coi,header=0)\n",
      "data.columns = [hdrs.encode('ascii','ignore') for hdrs in data.columns]"
     ],
     "language": "python",
     "metadata": {},
     "outputs": [],
     "prompt_number": 14
    },
    {
     "cell_type": "markdown",
     "metadata": {},
     "source": [
      "## Objective\n",
      "\n",
      "Create static webpages of this paper mining exercise for \"\".\n",
      "\n",
      "## Process\n",
      "\n",
      "1. Load in Excel data\n",
      "2. Use Pandas to read in data\n",
      "3. Remove Nans\n",
      "4. Convert to Dictionary.\n",
      "5. Dump to YAML front matter\n",
      "6. Host the static pages on Github pages\n",
      "    \n",
      "    [GitHub pages]() interpret Jekyll syntax which requires a certain structure to the post names.\n",
      "    year-month-date-Author-Title.html"
     ]
    },
    {
     "cell_type": "code",
     "collapsed": false,
     "input": [
      "currenttime = datetime.datetime.now()\n",
      "for papers in data.index:\n",
      "    \n",
      "    # Modify Raw Data to create YAML front matter\n",
      "    subset = data.iloc[papers].dropna()\n",
      "    dictsubset = subset.to_dict()\n",
      "    for dd in dictsubset:\n",
      "        if type(dictsubset[ dd ])  == type(u'unicode'):\n",
      "            dictsubset[ dd ] = str(dictsubset[ dd ].encode('ascii','ignore'))\n",
      "        elif type(dictsubset[ dd ]).__module__ == 'numpy':\n",
      "            # Need to convert numpy scale types into python native scalars\n",
      "            dictsubset[ dd ] = np.asscalar( dictsubset[ dd ] )\n",
      "            \n",
      "\n",
      "    # Parse URL to first search result\n",
      "    if dictsubset.has_key('DOI'):\n",
      "        res  = search(dictsubset['DOI'] )\n",
      "        dictsubset['url'] = res.next() # Returns first result from the google search\n",
      "    else:\n",
      "        dictsubset['url']=''\n",
      "        \n",
      "    if not( dictsubset.has_key('Author') ):\n",
      "        dictsubset['Author'] = '<Unknown>'\n",
      "           \n",
      "    \n",
      "    dictsubset['Method'] = coi\n",
      "    \n",
      "    postname = str(currenttime.date()) + '-' +\\\n",
      "               dictsubset['Author'] + '-' +\\\n",
      "        \n",
      "               str(dictsubset['Year']) + '-' +\\\n",
      "               str( np.asscalar(papers) ) + '-' +\\\n",
      "               dictsubset['Method'] + '.html'\n",
      "    \n",
      "    f = open( './Nils-Content/_posts/'+postname,'w' )\n",
      "    f.write('---\\n')\n",
      "    f.write(yaml.dump( dictsubset, \n",
      "            default_flow_style=False ) )\n",
      "    f.write('---\\n')\n",
      "    f.close()\n",
      "               \n",
      "    \n",
      "    if papers == 2:\n",
      "        break\n",
      "    # Find the page hosting the article\n",
      "    "
     ],
     "language": "python",
     "metadata": {},
     "outputs": [],
     "prompt_number": 15
    },
    {
     "cell_type": "code",
     "collapsed": false,
     "input": [
      "journals = {'j.synthmet':'Synthetic Materials',\n",
      "            'ma':'MacroMolecules',\n",
      "            'adma':'Advanced Materials',\n",
      "            'nn': 'American Chemical Society Nano',\n",
      "            'adfm': 'Advanced Functional Materials',\n",
      "            'PhysRevB':'Physical Review B'\n",
      "            }"
     ],
     "language": "python",
     "metadata": {},
     "outputs": [],
     "prompt_number": 229
    }
   ],
   "metadata": {}
  }
 ]
}